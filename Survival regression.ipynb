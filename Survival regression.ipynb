{
 "cells": [
  {
   "cell_type": "markdown",
   "id": "40aa2e09",
   "metadata": {},
   "source": [
    "### Survival regression"
   ]
  },
  {
   "cell_type": "markdown",
   "id": "c864ee31",
   "metadata": {},
   "source": [
    "In spark.ml, we implement the Accelerated failure time (AFT) model which is a parametric survival regression model for censored data. It describes a model for the log of survival time, so it’s often called a log-linear model for survival analysis. Different from a Proportional hazards model designed for the same purpose, the AFT model is easier to parallelize because each instance contributes to the objective function independently."
   ]
  },
  {
   "cell_type": "code",
   "execution_count": 1,
   "id": "23f24bb1",
   "metadata": {},
   "outputs": [],
   "source": [
    "import findspark\n",
    "findspark.init()"
   ]
  },
  {
   "cell_type": "code",
   "execution_count": 2,
   "id": "4aada775",
   "metadata": {},
   "outputs": [],
   "source": [
    "from pyspark.ml.regression import AFTSurvivalRegression\n",
    "from pyspark.ml.linalg import Vectors"
   ]
  },
  {
   "cell_type": "code",
   "execution_count": 7,
   "id": "b7ca5dae",
   "metadata": {},
   "outputs": [],
   "source": [
    "from pyspark.sql import SparkSession\n",
    "spark = SparkSession.builder.appName(\"surv\").getOrCreate()"
   ]
  },
  {
   "cell_type": "code",
   "execution_count": 8,
   "id": "3feadccd",
   "metadata": {},
   "outputs": [],
   "source": [
    "training = spark.createDataFrame([\n",
    "    (1.218, 1.0, Vectors.dense(1.560, -0.605)),\n",
    "    (2.949, 0.0, Vectors.dense(0.346, 2.158)),\n",
    "    (3.627, 0.0, Vectors.dense(1.380, 0.231)),\n",
    "    (0.273, 1.0, Vectors.dense(0.520, 1.151)),\n",
    "    (4.199, 0.0, Vectors.dense(0.795, -0.226))], [\"label\", \"censor\", \"features\"])"
   ]
  },
  {
   "cell_type": "code",
   "execution_count": 9,
   "id": "5161270a",
   "metadata": {},
   "outputs": [],
   "source": [
    "quantileProbabilities = [0.3, 0.6]\n",
    "aft = AFTSurvivalRegression(quantileProbabilities=quantileProbabilities,quantilesCol=\"quantiles\")\n",
    "\n",
    "model = aft.fit(training)"
   ]
  },
  {
   "cell_type": "code",
   "execution_count": 10,
   "id": "4d507d5d",
   "metadata": {},
   "outputs": [
    {
     "name": "stdout",
     "output_type": "stream",
     "text": [
      "Coefficients: [-0.4963111466650707,0.19844437699933098]\n",
      "Intercept: 2.63809461510401\n",
      "Scale: 1.5472345574364692\n",
      "+-----+------+--------------+------------------+---------------------------------------+\n",
      "|label|censor|features      |prediction        |quantiles                              |\n",
      "+-----+------+--------------+------------------+---------------------------------------+\n",
      "|1.218|1.0   |[1.56,-0.605] |5.718979487635007 |[1.1603238947151657,4.99545601027477]  |\n",
      "|2.949|0.0   |[0.346,2.158] |18.07652118149533 |[3.6675458454717362,15.789611866277625]|\n",
      "|3.627|0.0   |[1.38,0.231]  |7.381861804239096 |[1.497706130519082,6.44796261233896]   |\n",
      "|0.273|1.0   |[0.52,1.151]  |13.577612501425284|[2.7547621481506837,11.8598722240697]  |\n",
      "|4.199|0.0   |[0.795,-0.226]|9.013097744073898 |[1.8286676321297812,7.87282650587843]  |\n",
      "+-----+------+--------------+------------------+---------------------------------------+\n",
      "\n"
     ]
    }
   ],
   "source": [
    "print(\"Coefficients: \" + str(model.coefficients))\n",
    "print(\"Intercept: \" + str(model.intercept))\n",
    "print(\"Scale: \" + str(model.scale))\n",
    "model.transform(training).show(truncate=False)"
   ]
  },
  {
   "cell_type": "code",
   "execution_count": null,
   "id": "201521af",
   "metadata": {},
   "outputs": [],
   "source": []
  }
 ],
 "metadata": {
  "kernelspec": {
   "display_name": "Python 3 (ipykernel)",
   "language": "python",
   "name": "python3"
  },
  "language_info": {
   "codemirror_mode": {
    "name": "ipython",
    "version": 3
   },
   "file_extension": ".py",
   "mimetype": "text/x-python",
   "name": "python",
   "nbconvert_exporter": "python",
   "pygments_lexer": "ipython3",
   "version": "3.9.12"
  }
 },
 "nbformat": 4,
 "nbformat_minor": 5
}
