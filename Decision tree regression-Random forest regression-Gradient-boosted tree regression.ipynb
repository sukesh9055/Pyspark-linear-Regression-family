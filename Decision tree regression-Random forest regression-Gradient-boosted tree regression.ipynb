{
 "cells": [
  {
   "cell_type": "code",
   "execution_count": 2,
   "id": "126fd1cd",
   "metadata": {},
   "outputs": [],
   "source": [
    "import findspark\n",
    "findspark.init()"
   ]
  },
  {
   "cell_type": "code",
   "execution_count": 3,
   "id": "deb73990",
   "metadata": {},
   "outputs": [],
   "source": [
    "from pyspark.ml import Pipeline\n",
    "from pyspark.ml.regression import DecisionTreeRegressor as DTR\n",
    "from pyspark.ml.regression import RandomForestRegressor as RFR\n",
    "from pyspark.ml.regression import GBTRegressor as GBT\n",
    "from pyspark.ml.feature import VectorIndexer\n",
    "from pyspark.ml.evaluation import RegressionEvaluator"
   ]
  },
  {
   "cell_type": "code",
   "execution_count": 4,
   "id": "0a83d8f2",
   "metadata": {},
   "outputs": [],
   "source": [
    "from pyspark.sql import SparkSession"
   ]
  },
  {
   "cell_type": "code",
   "execution_count": 6,
   "id": "cd19d44e",
   "metadata": {},
   "outputs": [],
   "source": [
    "spark = SparkSession.builder.appName(\"regressors\").getOrCreate()"
   ]
  },
  {
   "cell_type": "code",
   "execution_count": 8,
   "id": "918926b8",
   "metadata": {},
   "outputs": [],
   "source": [
    "df =spark.read.format(\"libsvm\").load(\"newd/sample_libsvm.txt\")"
   ]
  },
  {
   "cell_type": "code",
   "execution_count": 9,
   "id": "37202e35",
   "metadata": {},
   "outputs": [],
   "source": [
    "featureIndexer = VectorIndexer(inputCol=\"features\",outputCol=\"indexedFeatures\",maxCategories=4).fit(df)"
   ]
  },
  {
   "cell_type": "code",
   "execution_count": 10,
   "id": "6cfa69ee",
   "metadata": {},
   "outputs": [],
   "source": [
    "train,test = df.randomSplit([0.8,0.2])"
   ]
  },
  {
   "cell_type": "code",
   "execution_count": 11,
   "id": "6544b3c3",
   "metadata": {},
   "outputs": [
    {
     "data": {
      "text/plain": [
       "80"
      ]
     },
     "execution_count": 11,
     "metadata": {},
     "output_type": "execute_result"
    }
   ],
   "source": [
    "train.count()"
   ]
  },
  {
   "cell_type": "code",
   "execution_count": 12,
   "id": "ca7b2383",
   "metadata": {},
   "outputs": [],
   "source": [
    "dt = DTR(featuresCol=\"indexedFeatures\")\n",
    "dt1 = RFR(featuresCol=\"indexedFeatures\")\n",
    "dt3 = GBT(featuresCol=\"indexedFeatures\")"
   ]
  },
  {
   "cell_type": "code",
   "execution_count": 14,
   "id": "9321d272",
   "metadata": {},
   "outputs": [],
   "source": [
    "pip = Pipeline(stages=[featureIndexer,dt])\n",
    "pip1 = Pipeline(stages=[featureIndexer,dt1])\n",
    "pip2 = Pipeline(stages=[featureIndexer,dt3])"
   ]
  },
  {
   "cell_type": "code",
   "execution_count": 15,
   "id": "25b1b124",
   "metadata": {},
   "outputs": [],
   "source": [
    "model = pip.fit(train)\n",
    "model1=pip1.fit(train)\n",
    "model2 = pip2.fit(train)"
   ]
  },
  {
   "cell_type": "code",
   "execution_count": 16,
   "id": "b76e69df",
   "metadata": {},
   "outputs": [],
   "source": [
    "pred = model.transform(test)\n",
    "pred1=model1.transform(test)\n",
    "pred2 = model2.transform(test)"
   ]
  },
  {
   "cell_type": "code",
   "execution_count": 17,
   "id": "0dc14cee",
   "metadata": {},
   "outputs": [
    {
     "name": "stdout",
     "output_type": "stream",
     "text": [
      "+----------+-----+--------------------+\n",
      "|prediction|label|            features|\n",
      "+----------+-----+--------------------+\n",
      "|       0.0|  0.0|(692,[100,101,102...|\n",
      "|       0.0|  0.0|(692,[124,125,126...|\n",
      "|       0.0|  0.0|(692,[125,126,127...|\n",
      "+----------+-----+--------------------+\n",
      "only showing top 3 rows\n",
      "\n",
      "+----------+-----+--------------------+\n",
      "|prediction|label|            features|\n",
      "+----------+-----+--------------------+\n",
      "|      0.05|  0.0|(692,[100,101,102...|\n",
      "|       0.0|  0.0|(692,[124,125,126...|\n",
      "|      0.15|  0.0|(692,[125,126,127...|\n",
      "+----------+-----+--------------------+\n",
      "only showing top 3 rows\n",
      "\n",
      "+----------+-----+--------------------+\n",
      "|prediction|label|            features|\n",
      "+----------+-----+--------------------+\n",
      "|       0.0|  0.0|(692,[100,101,102...|\n",
      "|       0.0|  0.0|(692,[124,125,126...|\n",
      "|       0.0|  0.0|(692,[125,126,127...|\n",
      "+----------+-----+--------------------+\n",
      "only showing top 3 rows\n",
      "\n"
     ]
    }
   ],
   "source": [
    "pred.select(\"prediction\",\"label\",\"features\").show(3)\n",
    "pred1.select(\"prediction\",\"label\",\"features\").show(3)\n",
    "pred2.select(\"prediction\",\"label\",\"features\").show(3)"
   ]
  },
  {
   "cell_type": "code",
   "execution_count": 19,
   "id": "bf05eb74",
   "metadata": {},
   "outputs": [],
   "source": [
    "evaluator = RegressionEvaluator(labelCol=\"label\",predictionCol=\"prediction\",metricName=\"rmse\")\n"
   ]
  },
  {
   "cell_type": "code",
   "execution_count": 20,
   "id": "71951058",
   "metadata": {},
   "outputs": [],
   "source": [
    "rmse = evaluator.evaluate(pred)\n",
    "rmse1 = evaluator.evaluate(pred1)\n",
    "rmse2 = evaluator.evaluate(pred2)"
   ]
  },
  {
   "cell_type": "code",
   "execution_count": 21,
   "id": "ecc098de",
   "metadata": {},
   "outputs": [
    {
     "name": "stdout",
     "output_type": "stream",
     "text": [
      "RMSE OF TEST DATA USING DecisionTreeRegressor  0.22360679774997896\n",
      "RMSE OF TEST DATA USING RandomForestRegressor  0.22994564575133836\n",
      "RMSE OF TEST DATA USING GBTRegressor  0.22360679774997896\n"
     ]
    }
   ],
   "source": [
    "print(\"RMSE OF TEST DATA USING DecisionTreeRegressor \",rmse)\n",
    "print(\"RMSE OF TEST DATA USING RandomForestRegressor \",rmse1)\n",
    "print(\"RMSE OF TEST DATA USING GBTRegressor \",rmse2)\n"
   ]
  },
  {
   "cell_type": "code",
   "execution_count": 24,
   "id": "ccda91b2",
   "metadata": {},
   "outputs": [
    {
     "name": "stdout",
     "output_type": "stream",
     "text": [
      "DecisionTreeRegressionModel: uid=DecisionTreeRegressor_7fc8c61ef94d, depth=1, numNodes=3, numFeatures=692\n",
      "RandomForestRegressionModel: uid=RandomForestRegressor_5a9f8e88c363, numTrees=20, numFeatures=692\n",
      "GBTRegressionModel: uid=GBTRegressor_6c8af4167c81, numTrees=20, numFeatures=692\n"
     ]
    }
   ],
   "source": [
    "treemodel=model.stages[1]\n",
    "print(treemodel)\n",
    "rfModel = model1.stages[1]\n",
    "print(rfModel)\n",
    "gbtModel = model2.stages[1]\n",
    "print(gbtModel)"
   ]
  },
  {
   "cell_type": "code",
   "execution_count": null,
   "id": "2a0ef5d3",
   "metadata": {},
   "outputs": [],
   "source": []
  },
  {
   "cell_type": "code",
   "execution_count": null,
   "id": "a8d0bc14",
   "metadata": {},
   "outputs": [],
   "source": []
  }
 ],
 "metadata": {
  "kernelspec": {
   "display_name": "Python 3 (ipykernel)",
   "language": "python",
   "name": "python3"
  },
  "language_info": {
   "codemirror_mode": {
    "name": "ipython",
    "version": 3
   },
   "file_extension": ".py",
   "mimetype": "text/x-python",
   "name": "python",
   "nbconvert_exporter": "python",
   "pygments_lexer": "ipython3",
   "version": "3.9.12"
  }
 },
 "nbformat": 4,
 "nbformat_minor": 5
}
