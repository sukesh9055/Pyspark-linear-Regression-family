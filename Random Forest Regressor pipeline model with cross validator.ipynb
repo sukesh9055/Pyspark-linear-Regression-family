{
 "cells": [
  {
   "cell_type": "code",
   "execution_count": 1,
   "id": "a1c09eab",
   "metadata": {},
   "outputs": [],
   "source": [
    "import findspark\n",
    "findspark.init()"
   ]
  },
  {
   "cell_type": "code",
   "execution_count": 2,
   "id": "3b5a69c7",
   "metadata": {},
   "outputs": [],
   "source": [
    "from pyspark.ml.feature import VectorAssembler\n",
    "from pyspark.sql.functions import isnan ,when,count,col,lit\n",
    "from pyspark.ml.regression import RandomForestRegressor\n",
    "from pyspark.ml.evaluation import RegressionEvaluator\n",
    "from pyspark.ml import Pipeline\n",
    "from pyspark.ml.tuning import CrossValidator\n",
    "from pyspark.ml.evaluation import RegressionEvaluator\n",
    "from pyspark.ml.tuning import ParamGridBuilder\n",
    "from pyspark.sql.types import StructType,StructField, StringType, IntegerType"
   ]
  },
  {
   "cell_type": "code",
   "execution_count": 3,
   "id": "b858bfd7",
   "metadata": {},
   "outputs": [],
   "source": [
    "from pyspark.sql import SparkSession\n",
    "spark = SparkSession.builder.appName(\"car\").getOrCreate()"
   ]
  },
  {
   "cell_type": "code",
   "execution_count": 4,
   "id": "84755ab8",
   "metadata": {},
   "outputs": [],
   "source": [
    "schema = StructType([StructField(\"make\",StringType(),True),StructField(\"model\",StringType(),True),StructField(\"year\",IntegerType(),True),StructField(\"EngineFuelType\",StringType(),True),StructField(\"EngineHp\",IntegerType(),True),StructField(\"EngineCylinders\",IntegerType(),True),StructField(\"TransmissionType\",StringType(),True),StructField(\"Driveen_wheels\",StringType(),True),StructField(\"NOofdoors\",IntegerType(),True),StructField(\"MarketCategory\",StringType(),True),StructField(\"VehicleSize\",StringType(),True),StructField(\"Vehicletype\",StringType(),True),StructField(\"HighwayMpg\",IntegerType(),True),StructField(\"city_mpg\",IntegerType(),True),StructField(\"Popularity\",IntegerType(),True),StructField(\"msrp\",IntegerType(),True)])"
   ]
  },
  {
   "cell_type": "code",
   "execution_count": 5,
   "id": "ff963326",
   "metadata": {},
   "outputs": [],
   "source": [
    "df = spark.read.csv(\"newd/cardata.csv\",inferSchema=True,header=True,schema=schema)"
   ]
  },
  {
   "cell_type": "code",
   "execution_count": 6,
   "id": "64237e28",
   "metadata": {},
   "outputs": [
    {
     "data": {
      "text/plain": [
       "[Row(make='FIAT', model='124 Spider', year=2017, EngineFuelType='premium unleaded (recommended)', EngineHp=160, EngineCylinders=4, TransmissionType='MANUAL', Driveen_wheels='rear wheel drive', NOofdoors=2, MarketCategory='Performance', VehicleSize='Compact', Vehicletype='Convertible', HighwayMpg=35, city_mpg=26, Popularity=819, msrp=28195)]"
      ]
     },
     "execution_count": 6,
     "metadata": {},
     "output_type": "execute_result"
    }
   ],
   "source": [
    "df.head(1)"
   ]
  },
  {
   "cell_type": "code",
   "execution_count": 7,
   "id": "f1e52fc2",
   "metadata": {},
   "outputs": [
    {
     "data": {
      "text/plain": [
       "['make',\n",
       " 'model',\n",
       " 'year',\n",
       " 'EngineFuelType',\n",
       " 'EngineHp',\n",
       " 'EngineCylinders',\n",
       " 'TransmissionType',\n",
       " 'Driveen_wheels',\n",
       " 'NOofdoors',\n",
       " 'MarketCategory',\n",
       " 'VehicleSize',\n",
       " 'Vehicletype',\n",
       " 'HighwayMpg',\n",
       " 'city_mpg',\n",
       " 'Popularity',\n",
       " 'msrp']"
      ]
     },
     "execution_count": 7,
     "metadata": {},
     "output_type": "execute_result"
    }
   ],
   "source": [
    "df.columns"
   ]
  },
  {
   "cell_type": "code",
   "execution_count": 8,
   "id": "cbec220d",
   "metadata": {
    "scrolled": true
   },
   "outputs": [
    {
     "name": "stdout",
     "output_type": "stream",
     "text": [
      "root\n",
      " |-- make: string (nullable = true)\n",
      " |-- model: string (nullable = true)\n",
      " |-- year: integer (nullable = true)\n",
      " |-- EngineFuelType: string (nullable = true)\n",
      " |-- EngineHp: integer (nullable = true)\n",
      " |-- EngineCylinders: integer (nullable = true)\n",
      " |-- TransmissionType: string (nullable = true)\n",
      " |-- Driveen_wheels: string (nullable = true)\n",
      " |-- NOofdoors: integer (nullable = true)\n",
      " |-- MarketCategory: string (nullable = true)\n",
      " |-- VehicleSize: string (nullable = true)\n",
      " |-- Vehicletype: string (nullable = true)\n",
      " |-- HighwayMpg: integer (nullable = true)\n",
      " |-- city_mpg: integer (nullable = true)\n",
      " |-- Popularity: integer (nullable = true)\n",
      " |-- msrp: integer (nullable = true)\n",
      "\n"
     ]
    },
    {
     "data": {
      "text/html": [
       "<div>\n",
       "<style scoped>\n",
       "    .dataframe tbody tr th:only-of-type {\n",
       "        vertical-align: middle;\n",
       "    }\n",
       "\n",
       "    .dataframe tbody tr th {\n",
       "        vertical-align: top;\n",
       "    }\n",
       "\n",
       "    .dataframe thead th {\n",
       "        text-align: right;\n",
       "    }\n",
       "</style>\n",
       "<table border=\"1\" class=\"dataframe\">\n",
       "  <thead>\n",
       "    <tr style=\"text-align: right;\">\n",
       "      <th></th>\n",
       "      <th>0</th>\n",
       "      <th>1</th>\n",
       "      <th>2</th>\n",
       "      <th>3</th>\n",
       "      <th>4</th>\n",
       "    </tr>\n",
       "  </thead>\n",
       "  <tbody>\n",
       "    <tr>\n",
       "      <th>summary</th>\n",
       "      <td>count</td>\n",
       "      <td>mean</td>\n",
       "      <td>stddev</td>\n",
       "      <td>min</td>\n",
       "      <td>max</td>\n",
       "    </tr>\n",
       "    <tr>\n",
       "      <th>make</th>\n",
       "      <td>11880</td>\n",
       "      <td>None</td>\n",
       "      <td>None</td>\n",
       "      <td>Acura</td>\n",
       "      <td>Volvo</td>\n",
       "    </tr>\n",
       "    <tr>\n",
       "      <th>model</th>\n",
       "      <td>11880</td>\n",
       "      <td>767.8436781609196</td>\n",
       "      <td>1511.4508757153594</td>\n",
       "      <td>124 Spider</td>\n",
       "      <td>xD</td>\n",
       "    </tr>\n",
       "    <tr>\n",
       "      <th>year</th>\n",
       "      <td>11880</td>\n",
       "      <td>2010.4026094276094</td>\n",
       "      <td>7.56446225730375</td>\n",
       "      <td>1990</td>\n",
       "      <td>2017</td>\n",
       "    </tr>\n",
       "    <tr>\n",
       "      <th>EngineFuelType</th>\n",
       "      <td>11877</td>\n",
       "      <td>None</td>\n",
       "      <td>None</td>\n",
       "      <td>diesel</td>\n",
       "      <td>regular unleaded</td>\n",
       "    </tr>\n",
       "    <tr>\n",
       "      <th>EngineHp</th>\n",
       "      <td>11811</td>\n",
       "      <td>249.46769960206586</td>\n",
       "      <td>109.29410966315454</td>\n",
       "      <td>55</td>\n",
       "      <td>1001</td>\n",
       "    </tr>\n",
       "    <tr>\n",
       "      <th>EngineCylinders</th>\n",
       "      <td>11850</td>\n",
       "      <td>5.628101265822785</td>\n",
       "      <td>1.782882058448863</td>\n",
       "      <td>0</td>\n",
       "      <td>16</td>\n",
       "    </tr>\n",
       "    <tr>\n",
       "      <th>TransmissionType</th>\n",
       "      <td>11880</td>\n",
       "      <td>None</td>\n",
       "      <td>None</td>\n",
       "      <td>AUTOMATED_MANUAL</td>\n",
       "      <td>UNKNOWN</td>\n",
       "    </tr>\n",
       "    <tr>\n",
       "      <th>Driveen_wheels</th>\n",
       "      <td>11880</td>\n",
       "      <td>None</td>\n",
       "      <td>None</td>\n",
       "      <td>all wheel drive</td>\n",
       "      <td>rear wheel drive</td>\n",
       "    </tr>\n",
       "    <tr>\n",
       "      <th>NOofdoors</th>\n",
       "      <td>11874</td>\n",
       "      <td>3.4376789624389423</td>\n",
       "      <td>0.8804751303515581</td>\n",
       "      <td>2</td>\n",
       "      <td>4</td>\n",
       "    </tr>\n",
       "    <tr>\n",
       "      <th>MarketCategory</th>\n",
       "      <td>11880</td>\n",
       "      <td>None</td>\n",
       "      <td>None</td>\n",
       "      <td>Crossover</td>\n",
       "      <td>Performance,Hybrid</td>\n",
       "    </tr>\n",
       "    <tr>\n",
       "      <th>VehicleSize</th>\n",
       "      <td>11880</td>\n",
       "      <td>None</td>\n",
       "      <td>None</td>\n",
       "      <td>Compact</td>\n",
       "      <td>Midsize</td>\n",
       "    </tr>\n",
       "    <tr>\n",
       "      <th>Vehicletype</th>\n",
       "      <td>11880</td>\n",
       "      <td>None</td>\n",
       "      <td>None</td>\n",
       "      <td>2dr Hatchback</td>\n",
       "      <td>Wagon</td>\n",
       "    </tr>\n",
       "    <tr>\n",
       "      <th>HighwayMpg</th>\n",
       "      <td>11880</td>\n",
       "      <td>26.640319865319864</td>\n",
       "      <td>8.8733552239703</td>\n",
       "      <td>12</td>\n",
       "      <td>354</td>\n",
       "    </tr>\n",
       "    <tr>\n",
       "      <th>city_mpg</th>\n",
       "      <td>11880</td>\n",
       "      <td>19.737710437710437</td>\n",
       "      <td>8.999381266550028</td>\n",
       "      <td>7</td>\n",
       "      <td>137</td>\n",
       "    </tr>\n",
       "    <tr>\n",
       "      <th>Popularity</th>\n",
       "      <td>11880</td>\n",
       "      <td>1549.6992424242424</td>\n",
       "      <td>1440.0579106849182</td>\n",
       "      <td>2</td>\n",
       "      <td>5657</td>\n",
       "    </tr>\n",
       "    <tr>\n",
       "      <th>msrp</th>\n",
       "      <td>11880</td>\n",
       "      <td>40649.1095959596</td>\n",
       "      <td>60178.70610710873</td>\n",
       "      <td>2000</td>\n",
       "      <td>2065902</td>\n",
       "    </tr>\n",
       "  </tbody>\n",
       "</table>\n",
       "</div>"
      ],
      "text/plain": [
       "                      0                   1                   2  \\\n",
       "summary           count                mean              stddev   \n",
       "make              11880                None                None   \n",
       "model             11880   767.8436781609196  1511.4508757153594   \n",
       "year              11880  2010.4026094276094    7.56446225730375   \n",
       "EngineFuelType    11877                None                None   \n",
       "EngineHp          11811  249.46769960206586  109.29410966315454   \n",
       "EngineCylinders   11850   5.628101265822785   1.782882058448863   \n",
       "TransmissionType  11880                None                None   \n",
       "Driveen_wheels    11880                None                None   \n",
       "NOofdoors         11874  3.4376789624389423  0.8804751303515581   \n",
       "MarketCategory    11880                None                None   \n",
       "VehicleSize       11880                None                None   \n",
       "Vehicletype       11880                None                None   \n",
       "HighwayMpg        11880  26.640319865319864     8.8733552239703   \n",
       "city_mpg          11880  19.737710437710437   8.999381266550028   \n",
       "Popularity        11880  1549.6992424242424  1440.0579106849182   \n",
       "msrp              11880    40649.1095959596   60178.70610710873   \n",
       "\n",
       "                                 3                   4  \n",
       "summary                        min                 max  \n",
       "make                         Acura               Volvo  \n",
       "model                   124 Spider                  xD  \n",
       "year                          1990                2017  \n",
       "EngineFuelType              diesel    regular unleaded  \n",
       "EngineHp                        55                1001  \n",
       "EngineCylinders                  0                  16  \n",
       "TransmissionType  AUTOMATED_MANUAL             UNKNOWN  \n",
       "Driveen_wheels     all wheel drive    rear wheel drive  \n",
       "NOofdoors                        2                   4  \n",
       "MarketCategory           Crossover  Performance,Hybrid  \n",
       "VehicleSize                Compact             Midsize  \n",
       "Vehicletype          2dr Hatchback               Wagon  \n",
       "HighwayMpg                      12                 354  \n",
       "city_mpg                         7                 137  \n",
       "Popularity                       2                5657  \n",
       "msrp                          2000             2065902  "
      ]
     },
     "execution_count": 8,
     "metadata": {},
     "output_type": "execute_result"
    }
   ],
   "source": [
    "df.printSchema()\n",
    "df.describe().toPandas().transpose()"
   ]
  },
  {
   "cell_type": "code",
   "execution_count": 9,
   "id": "11b28717",
   "metadata": {},
   "outputs": [],
   "source": [
    "def replace(column,val):\n",
    "    return when(column != val,column).otherwise(lit(None))\n",
    "df =df.withColumn(\"MarketCategory\",replace(col(\"MarketCategory\"),\"N/A\"))"
   ]
  },
  {
   "cell_type": "code",
   "execution_count": 10,
   "id": "166819db",
   "metadata": {},
   "outputs": [
    {
     "name": "stdout",
     "output_type": "stream",
     "text": [
      "+----+-----+----+--------------+--------+---------------+----------------+--------------+---------+--------------+-----------+-----------+----------+--------+----------+----+\n",
      "|make|model|year|EngineFuelType|EngineHp|EngineCylinders|TransmissionType|Driveen_wheels|NOofdoors|MarketCategory|VehicleSize|Vehicletype|HighwayMpg|city_mpg|Popularity|msrp|\n",
      "+----+-----+----+--------------+--------+---------------+----------------+--------------+---------+--------------+-----------+-----------+----------+--------+----------+----+\n",
      "|   0|    0|   0|             3|      69|             30|               0|             0|        6|          3742|          0|          0|         0|       0|         0|   0|\n",
      "+----+-----+----+--------------+--------+---------------+----------------+--------------+---------+--------------+-----------+-----------+----------+--------+----------+----+\n",
      "\n"
     ]
    }
   ],
   "source": [
    "df.select([count(when(isnan(c) | col(c).isNull(),c)).alias(c) for c in df.columns]).show()"
   ]
  },
  {
   "cell_type": "code",
   "execution_count": 11,
   "id": "4bc49956",
   "metadata": {},
   "outputs": [],
   "source": [
    "df=df.drop(\"MarketCategory\")\n",
    "df=df.na.drop()"
   ]
  },
  {
   "cell_type": "code",
   "execution_count": 12,
   "id": "ee78056f",
   "metadata": {},
   "outputs": [
    {
     "name": "stdout",
     "output_type": "stream",
     "text": [
      "(11778, 15)\n"
     ]
    }
   ],
   "source": [
    "\n",
    "print((df.count(),len(df.columns)))"
   ]
  },
  {
   "cell_type": "code",
   "execution_count": 13,
   "id": "96f0056d",
   "metadata": {},
   "outputs": [
    {
     "data": {
      "text/plain": [
       "['make',\n",
       " 'model',\n",
       " 'year',\n",
       " 'EngineFuelType',\n",
       " 'EngineHp',\n",
       " 'EngineCylinders',\n",
       " 'TransmissionType',\n",
       " 'Driveen_wheels',\n",
       " 'NOofdoors',\n",
       " 'VehicleSize',\n",
       " 'Vehicletype',\n",
       " 'HighwayMpg',\n",
       " 'city_mpg',\n",
       " 'Popularity',\n",
       " 'msrp']"
      ]
     },
     "execution_count": 13,
     "metadata": {},
     "output_type": "execute_result"
    }
   ],
   "source": [
    "df.columns"
   ]
  },
  {
   "cell_type": "code",
   "execution_count": 14,
   "id": "ee62f147",
   "metadata": {},
   "outputs": [],
   "source": [
    "assembler = VectorAssembler(inputCols=['year','EngineHp','EngineCylinders','NOofdoors','HighwayMpg','city_mpg' ,'Popularity'],outputCol=\"Attributes\")"
   ]
  },
  {
   "cell_type": "code",
   "execution_count": 15,
   "id": "1bd703cb",
   "metadata": {},
   "outputs": [],
   "source": [
    "regressor=RandomForestRegressor(featuresCol=\"Attributes\",labelCol=\"msrp\")"
   ]
  },
  {
   "cell_type": "code",
   "execution_count": 16,
   "id": "b453aebc",
   "metadata": {},
   "outputs": [],
   "source": [
    "pipeline=Pipeline(stages=[assembler,regressor])\n",
    "pipeline.write().overwrite().save(\"pipeline\")"
   ]
  },
  {
   "cell_type": "code",
   "execution_count": 17,
   "id": "8eb604cc",
   "metadata": {},
   "outputs": [],
   "source": [
    "pipelinemodel=Pipeline.load(\"pipeline\")\n",
    "paramGrid=ParamGridBuilder().addGrid(regressor.numTrees,[100,500]).build()\n",
    "crossval = CrossValidator(estimator=pipelinemodel,estimatorParamMaps = paramGrid,evaluator=RegressionEvaluator(labelCol=\"msrp\"),numFolds=3)"
   ]
  },
  {
   "cell_type": "code",
   "execution_count": 18,
   "id": "4dbdc21b",
   "metadata": {},
   "outputs": [],
   "source": [
    "train_data,test_data = df.randomSplit([0.8,0.2],seed=123)\n",
    "cvModel=crossval.fit(train_data)"
   ]
  },
  {
   "cell_type": "code",
   "execution_count": 20,
   "id": "770a7ce4",
   "metadata": {},
   "outputs": [
    {
     "name": "stdout",
     "output_type": "stream",
     "text": [
      "VectorAssembler_843c7c29e9b3\n",
      "RandomForestRegressionModel: uid=RandomForestRegressor_b393616dd75e, numTrees=500, numFeatures=7\n"
     ]
    }
   ],
   "source": [
    "bestmodel=cvModel.bestModel\n",
    "for x in range(len(bestmodel.stages)):\n",
    "    print(bestmodel.stages[x])"
   ]
  },
  {
   "cell_type": "code",
   "execution_count": 21,
   "id": "7a1c38b9",
   "metadata": {
    "scrolled": true
   },
   "outputs": [
    {
     "name": "stdout",
     "output_type": "stream",
     "text": [
      "+-----+------------------+\n",
      "| msrp|        prediction|\n",
      "+-----+------------------+\n",
      "|28030|33214.206219739295|\n",
      "|30550|    36891.75057271|\n",
      "|29350|28098.204956215657|\n",
      "|27900|27267.860104435338|\n",
      "|34890|27267.860104435338|\n",
      "|32990|27267.860104435338|\n",
      "| 2827|  4668.51519318538|\n",
      "| 3000|  4668.51519318538|\n",
      "| 3086|4655.9728155731955|\n",
      "| 3130|4655.9728155731955|\n",
      "| 3012| 4681.514079213043|\n",
      "| 3622| 5844.247925996545|\n",
      "|22300| 24967.96425218967|\n",
      "|19400|23006.943039377857|\n",
      "| 2042|  6179.37802980033|\n",
      "| 2144| 4758.015797692419|\n",
      "|49440| 38983.24376457492|\n",
      "|52640| 38983.24376457492|\n",
      "|47440| 39196.52461570135|\n",
      "|58400|39135.002878013074|\n",
      "+-----+------------------+\n",
      "only showing top 20 rows\n",
      "\n"
     ]
    }
   ],
   "source": [
    "pred = cvModel.transform(test_data)\n",
    "pred.select(\"msrp\",\"prediction\").show()"
   ]
  },
  {
   "cell_type": "code",
   "execution_count": 23,
   "id": "ed39c895",
   "metadata": {},
   "outputs": [],
   "source": [
    "eval = RegressionEvaluator(labelCol=\"msrp\")\n",
    "rmse = eval.evaluate(pred)\n",
    "mse = eval.evaluate(pred,{eval.metricName:\"mse\"})\n",
    "mae = eval.evaluate(pred,{eval.metricName:\"mae\"})\n",
    "r2 = eval.evaluate(pred,{eval.metricName:\"r2\"})"
   ]
  },
  {
   "cell_type": "code",
   "execution_count": 26,
   "id": "f659a8da",
   "metadata": {},
   "outputs": [
    {
     "name": "stdout",
     "output_type": "stream",
     "text": [
      "17033.043073253917\n",
      "RMSE : 17033.043\n",
      "MSE : 290124556.335\n",
      "MAE : 8661.564\n",
      "R2 : 0.885\n"
     ]
    }
   ],
   "source": [
    "print(rmse)\n",
    "print(\"RMSE : %.3f\" %rmse)\n",
    "print(\"MSE : %.3f\" %mse)\n",
    "print(\"MAE : %.3f\" %mae)\n",
    "print(\"R2 : %.3f\" %r2)"
   ]
  },
  {
   "cell_type": "code",
   "execution_count": null,
   "id": "b8071af5",
   "metadata": {},
   "outputs": [],
   "source": []
  }
 ],
 "metadata": {
  "kernelspec": {
   "display_name": "Python 3 (ipykernel)",
   "language": "python",
   "name": "python3"
  },
  "language_info": {
   "codemirror_mode": {
    "name": "ipython",
    "version": 3
   },
   "file_extension": ".py",
   "mimetype": "text/x-python",
   "name": "python",
   "nbconvert_exporter": "python",
   "pygments_lexer": "ipython3",
   "version": "3.9.12"
  }
 },
 "nbformat": 4,
 "nbformat_minor": 5
}
