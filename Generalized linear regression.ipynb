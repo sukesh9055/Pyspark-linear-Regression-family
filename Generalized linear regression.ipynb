{
 "cells": [
  {
   "cell_type": "code",
   "execution_count": 1,
   "id": "583e3a3c",
   "metadata": {},
   "outputs": [],
   "source": [
    "import findspark\n",
    "findspark.init()"
   ]
  },
  {
   "cell_type": "markdown",
   "id": "64ec5516",
   "metadata": {},
   "source": [
    "### Generalized linear regression\n",
    "\n",
    "Contrasted with linear regression where the output is assumed to follow a Gaussian distribution, generalized linear models (GLMs) are specifications of linear models where the response variable Yi follows some distribution from the exponential family of distributions. Spark’s GeneralizedLinearRegression interface allows for flexible specification of GLMs which can be used for various types of prediction problems including linear regression, Poisson regression, logistic regression, and others. Currently in spark.ml, only a subset of the exponential family distributions are supported and they are listed below."
   ]
  },
  {
   "cell_type": "code",
   "execution_count": 2,
   "id": "89a6ebf6",
   "metadata": {},
   "outputs": [],
   "source": [
    "from pyspark.sql import SparkSession\n"
   ]
  },
  {
   "cell_type": "code",
   "execution_count": 4,
   "id": "768c8424",
   "metadata": {},
   "outputs": [],
   "source": [
    "spark = SparkSession.builder.appName(\"GLM\").getOrCreate()"
   ]
  },
  {
   "cell_type": "code",
   "execution_count": 5,
   "id": "6b7f773a",
   "metadata": {},
   "outputs": [],
   "source": [
    "df = spark.read.format(\"libsvm\").load(\"linearregressiondata/sample_linear_regression_data.txt\")"
   ]
  },
  {
   "cell_type": "code",
   "execution_count": 6,
   "id": "b93cb030",
   "metadata": {},
   "outputs": [],
   "source": [
    "from pyspark.ml.regression import GeneralizedLinearRegression"
   ]
  },
  {
   "cell_type": "code",
   "execution_count": 7,
   "id": "8d10826b",
   "metadata": {},
   "outputs": [],
   "source": [
    "glr = GeneralizedLinearRegression(family=\"gaussian\",link=\"identity\",maxIter=10,regParam=0.4)"
   ]
  },
  {
   "cell_type": "code",
   "execution_count": 8,
   "id": "2185996b",
   "metadata": {},
   "outputs": [],
   "source": [
    "model = glr.fit(df)"
   ]
  },
  {
   "cell_type": "code",
   "execution_count": 9,
   "id": "8d9b43f8",
   "metadata": {},
   "outputs": [
    {
     "name": "stdout",
     "output_type": "stream",
     "text": [
      "[0.011517754940806584,0.790472842696679,-0.7765162432023517,2.3445626390996077,0.4952285783790079,1.1121937421556705,-0.29066362781210797,-0.4937192313655626,-0.5983826810997989,0.6652111079008689]\n"
     ]
    }
   ],
   "source": [
    "print(model.coefficients)"
   ]
  },
  {
   "cell_type": "code",
   "execution_count": 10,
   "id": "258cf257",
   "metadata": {},
   "outputs": [
    {
     "name": "stdout",
     "output_type": "stream",
     "text": [
      "0.14708259611153976\n"
     ]
    }
   ],
   "source": [
    "print(model.intercept)"
   ]
  },
  {
   "cell_type": "code",
   "execution_count": 11,
   "id": "576e99f1",
   "metadata": {},
   "outputs": [],
   "source": [
    "summary = glr.fit(df)"
   ]
  },
  {
   "cell_type": "code",
   "execution_count": 13,
   "id": "ea70983b",
   "metadata": {},
   "outputs": [],
   "source": [
    "summary = model.summary"
   ]
  },
  {
   "cell_type": "code",
   "execution_count": 14,
   "id": "3f66f9b5",
   "metadata": {},
   "outputs": [
    {
     "data": {
      "text/plain": [
       "[0.014556985646981891,\n",
       " 0.9869432016935129,\n",
       " -0.9783218402605137,\n",
       " 2.8339798039412596,\n",
       " 0.6263772725652821,\n",
       " 1.376426398350442,\n",
       " -0.36886126468815134,\n",
       " -0.6222754616209597,\n",
       " -0.7244923956624368,\n",
       " 0.8601375741810073,\n",
       " 0.3170624355222597]"
      ]
     },
     "execution_count": 14,
     "metadata": {},
     "output_type": "execute_result"
    }
   ],
   "source": [
    "summary.tValues"
   ]
  },
  {
   "cell_type": "code",
   "execution_count": 15,
   "id": "de78e438",
   "metadata": {},
   "outputs": [
    {
     "data": {
      "text/plain": [
       "[0.9883915411218993,\n",
       " 0.3241575659907814,\n",
       " 0.3283979285343941,\n",
       " 0.004786952596832039,\n",
       " 0.5313591986876245,\n",
       " 0.16931829995428638,\n",
       " 0.7123904600875584,\n",
       " 0.5340502038095645,\n",
       " 0.4691092782880637,\n",
       " 0.39013384955340924,\n",
       " 0.7513312731647628]"
      ]
     },
     "execution_count": 15,
     "metadata": {},
     "output_type": "execute_result"
    }
   ],
   "source": [
    "summary.pValues"
   ]
  },
  {
   "cell_type": "code",
   "execution_count": 16,
   "id": "41291c7e",
   "metadata": {},
   "outputs": [
    {
     "data": {
      "text/plain": [
       "105.6119122377221"
      ]
     },
     "execution_count": 16,
     "metadata": {},
     "output_type": "execute_result"
    }
   ],
   "source": [
    "summary.dispersion"
   ]
  },
  {
   "cell_type": "code",
   "execution_count": 17,
   "id": "851ad2ab",
   "metadata": {},
   "outputs": [
    {
     "data": {
      "text/plain": [
       "53229.3654338832"
      ]
     },
     "execution_count": 17,
     "metadata": {},
     "output_type": "execute_result"
    }
   ],
   "source": [
    "summary.nullDeviance"
   ]
  },
  {
   "cell_type": "code",
   "execution_count": 18,
   "id": "25bbd868",
   "metadata": {},
   "outputs": [
    {
     "data": {
      "text/plain": [
       "490"
      ]
     },
     "execution_count": 18,
     "metadata": {},
     "output_type": "execute_result"
    }
   ],
   "source": [
    "summary.residualDegreeOfFreedom"
   ]
  },
  {
   "cell_type": "code",
   "execution_count": 19,
   "id": "a1b0a960",
   "metadata": {},
   "outputs": [
    {
     "data": {
      "text/plain": [
       "3769.199210836989"
      ]
     },
     "execution_count": 19,
     "metadata": {},
     "output_type": "execute_result"
    }
   ],
   "source": [
    "summary.aic"
   ]
  },
  {
   "cell_type": "code",
   "execution_count": 22,
   "id": "69a97a52",
   "metadata": {},
   "outputs": [
    {
     "name": "stdout",
     "output_type": "stream",
     "text": [
      "+-------------------+\n",
      "|  devianceResiduals|\n",
      "+-------------------+\n",
      "|-10.962576254585496|\n",
      "| 0.8756885675820248|\n",
      "|-4.5968153409793695|\n",
      "| -20.40891441360814|\n",
      "|-10.248494674358772|\n",
      "| -6.035007505975672|\n",
      "|-10.643826966839969|\n",
      "|  2.113031346241665|\n",
      "| 3.9498467821299634|\n",
      "|-17.196001905701593|\n",
      "| -4.617655184662383|\n",
      "| 6.4295703799904524|\n",
      "| 11.434781711755111|\n",
      "|-20.695413645336263|\n",
      "| -2.666891403503044|\n",
      "|-16.783163829010693|\n",
      "|  8.126665885543046|\n",
      "|-1.4557261045503322|\n",
      "|-0.6235333545821107|\n",
      "|-1.1312909768193538|\n",
      "+-------------------+\n",
      "only showing top 20 rows\n",
      "\n"
     ]
    }
   ],
   "source": [
    "summary.residuals().show()"
   ]
  },
  {
   "cell_type": "markdown",
   "id": "2829b5b6",
   "metadata": {},
   "source": [
    "### model:2"
   ]
  },
  {
   "cell_type": "code",
   "execution_count": 2,
   "id": "1134faf4",
   "metadata": {},
   "outputs": [],
   "source": [
    "from pyspark.ml.regression import GeneralizedLinearRegression as glm"
   ]
  },
  {
   "cell_type": "code",
   "execution_count": 3,
   "id": "1c9e13f0",
   "metadata": {},
   "outputs": [],
   "source": [
    "from pyspark import SparkContext"
   ]
  },
  {
   "cell_type": "code",
   "execution_count": 4,
   "id": "8b19e2a8",
   "metadata": {},
   "outputs": [],
   "source": [
    "from pyspark.sql import SQLContext\n",
    "from pyspark.ml.feature import VectorAssembler\n",
    "from pyspark.ml.evaluation import RegressionEvaluator\n",
    "from sklearn.datasets import load_boston\n",
    "import pandas as pd\n",
    "import matplotlib.pyplot as plt"
   ]
  },
  {
   "cell_type": "code",
   "execution_count": 5,
   "id": "9b97ba37",
   "metadata": {
    "collapsed": true
   },
   "outputs": [
    {
     "name": "stderr",
     "output_type": "stream",
     "text": [
      "C:\\Users\\jaanu\\anaconda3\\lib\\site-packages\\sklearn\\utils\\deprecation.py:87: FutureWarning: Function load_boston is deprecated; `load_boston` is deprecated in 1.0 and will be removed in 1.2.\n",
      "\n",
      "    The Boston housing prices dataset has an ethical problem. You can refer to\n",
      "    the documentation of this function for further details.\n",
      "\n",
      "    The scikit-learn maintainers therefore strongly discourage the use of this\n",
      "    dataset unless the purpose of the code is to study and educate about\n",
      "    ethical issues in data science and machine learning.\n",
      "\n",
      "    In this special case, you can fetch the dataset from the original\n",
      "    source::\n",
      "\n",
      "        import pandas as pd\n",
      "        import numpy as np\n",
      "\n",
      "\n",
      "        data_url = \"http://lib.stat.cmu.edu/datasets/boston\"\n",
      "        raw_df = pd.read_csv(data_url, sep=\"\\s+\", skiprows=22, header=None)\n",
      "        data = np.hstack([raw_df.values[::2, :], raw_df.values[1::2, :2]])\n",
      "        target = raw_df.values[1::2, 2]\n",
      "\n",
      "    Alternative datasets include the California housing dataset (i.e.\n",
      "    :func:`~sklearn.datasets.fetch_california_housing`) and the Ames housing\n",
      "    dataset. You can load the datasets as follows::\n",
      "\n",
      "        from sklearn.datasets import fetch_california_housing\n",
      "        housing = fetch_california_housing()\n",
      "\n",
      "    for the California housing dataset and::\n",
      "\n",
      "        from sklearn.datasets import fetch_openml\n",
      "        housing = fetch_openml(name=\"house_prices\", as_frame=True)\n",
      "\n",
      "    for the Ames housing dataset.\n",
      "    \n",
      "  warnings.warn(msg, category=FutureWarning)\n"
     ]
    }
   ],
   "source": [
    "bc=load_boston()"
   ]
  },
  {
   "cell_type": "code",
   "execution_count": 6,
   "id": "6d656c0c",
   "metadata": {},
   "outputs": [],
   "source": [
    "df_boston = pd.DataFrame(bc.data,columns = bc.feature_names)"
   ]
  },
  {
   "cell_type": "code",
   "execution_count": 7,
   "id": "07a3fcf3",
   "metadata": {},
   "outputs": [
    {
     "name": "stdout",
     "output_type": "stream",
     "text": [
      "      CRIM    ZN  INDUS  CHAS    NOX     RM   AGE     DIS  RAD    TAX  \\\n",
      "0  0.00632  18.0   2.31   0.0  0.538  6.575  65.2  4.0900  1.0  296.0   \n",
      "1  0.02731   0.0   7.07   0.0  0.469  6.421  78.9  4.9671  2.0  242.0   \n",
      "2  0.02729   0.0   7.07   0.0  0.469  7.185  61.1  4.9671  2.0  242.0   \n",
      "3  0.03237   0.0   2.18   0.0  0.458  6.998  45.8  6.0622  3.0  222.0   \n",
      "4  0.06905   0.0   2.18   0.0  0.458  7.147  54.2  6.0622  3.0  222.0   \n",
      "\n",
      "   PTRATIO       B  LSTAT  target  \n",
      "0     15.3  396.90   4.98    24.0  \n",
      "1     17.8  396.90   9.14    21.6  \n",
      "2     17.8  392.83   4.03    34.7  \n",
      "3     18.7  394.63   2.94    33.4  \n",
      "4     18.7  396.90   5.33    36.2  \n"
     ]
    }
   ],
   "source": [
    "df_boston['target'] = pd.Series(bc.target)\n",
    "print(df_boston.head())"
   ]
  },
  {
   "cell_type": "code",
   "execution_count": 8,
   "id": "95112da1",
   "metadata": {},
   "outputs": [],
   "source": [
    "sc = SparkContext().getOrCreate()"
   ]
  },
  {
   "cell_type": "code",
   "execution_count": 9,
   "id": "db6edc02",
   "metadata": {},
   "outputs": [],
   "source": [
    "sqlContext = SQLContext(sc)"
   ]
  },
  {
   "cell_type": "code",
   "execution_count": 10,
   "id": "ecfd2b84",
   "metadata": {},
   "outputs": [],
   "source": [
    "data = sqlContext.createDataFrame(df_boston)"
   ]
  },
  {
   "cell_type": "code",
   "execution_count": 11,
   "id": "747629e5",
   "metadata": {},
   "outputs": [
    {
     "name": "stdout",
     "output_type": "stream",
     "text": [
      "root\n",
      " |-- CRIM: double (nullable = true)\n",
      " |-- ZN: double (nullable = true)\n",
      " |-- INDUS: double (nullable = true)\n",
      " |-- CHAS: double (nullable = true)\n",
      " |-- NOX: double (nullable = true)\n",
      " |-- RM: double (nullable = true)\n",
      " |-- AGE: double (nullable = true)\n",
      " |-- DIS: double (nullable = true)\n",
      " |-- RAD: double (nullable = true)\n",
      " |-- TAX: double (nullable = true)\n",
      " |-- PTRATIO: double (nullable = true)\n",
      " |-- B: double (nullable = true)\n",
      " |-- LSTAT: double (nullable = true)\n",
      " |-- target: double (nullable = true)\n",
      "\n",
      "None\n"
     ]
    }
   ],
   "source": [
    "print(data.printSchema())"
   ]
  },
  {
   "cell_type": "code",
   "execution_count": 12,
   "id": "b0a02d69",
   "metadata": {},
   "outputs": [],
   "source": [
    "features = bc.feature_names.tolist()"
   ]
  },
  {
   "cell_type": "code",
   "execution_count": 13,
   "id": "332624d6",
   "metadata": {},
   "outputs": [],
   "source": [
    "va = VectorAssembler(inputCols=features,outputCol=\"features\")"
   ]
  },
  {
   "cell_type": "code",
   "execution_count": 14,
   "id": "81911ec4",
   "metadata": {},
   "outputs": [],
   "source": [
    "va_df = va.transform(data)"
   ]
  },
  {
   "cell_type": "code",
   "execution_count": 16,
   "id": "56aeb34e",
   "metadata": {},
   "outputs": [
    {
     "name": "stdout",
     "output_type": "stream",
     "text": [
      "+-------+----+-----+----+-----+-----+----+------+---+-----+-------+------+-----+------+--------------------+\n",
      "|   CRIM|  ZN|INDUS|CHAS|  NOX|   RM| AGE|   DIS|RAD|  TAX|PTRATIO|     B|LSTAT|target|            features|\n",
      "+-------+----+-----+----+-----+-----+----+------+---+-----+-------+------+-----+------+--------------------+\n",
      "|0.00632|18.0| 2.31| 0.0|0.538|6.575|65.2|  4.09|1.0|296.0|   15.3| 396.9| 4.98|  24.0|[0.00632,18.0,2.3...|\n",
      "|0.02731| 0.0| 7.07| 0.0|0.469|6.421|78.9|4.9671|2.0|242.0|   17.8| 396.9| 9.14|  21.6|[0.02731,0.0,7.07...|\n",
      "|0.02729| 0.0| 7.07| 0.0|0.469|7.185|61.1|4.9671|2.0|242.0|   17.8|392.83| 4.03|  34.7|[0.02729,0.0,7.07...|\n",
      "|0.03237| 0.0| 2.18| 0.0|0.458|6.998|45.8|6.0622|3.0|222.0|   18.7|394.63| 2.94|  33.4|[0.03237,0.0,2.18...|\n",
      "|0.06905| 0.0| 2.18| 0.0|0.458|7.147|54.2|6.0622|3.0|222.0|   18.7| 396.9| 5.33|  36.2|[0.06905,0.0,2.18...|\n",
      "+-------+----+-----+----+-----+-----+----+------+---+-----+-------+------+-----+------+--------------------+\n",
      "only showing top 5 rows\n",
      "\n"
     ]
    }
   ],
   "source": [
    "va_df.show(5)"
   ]
  },
  {
   "cell_type": "code",
   "execution_count": 17,
   "id": "0d54f7e6",
   "metadata": {},
   "outputs": [],
   "source": [
    "train,test = va_df.randomSplit([0.8,0.2])"
   ]
  },
  {
   "cell_type": "code",
   "execution_count": 19,
   "id": "79ed58a5",
   "metadata": {},
   "outputs": [],
   "source": [
    "glr = glm(labelCol=\"target\",family=\"poisson\",maxIter=10,regParam=0.3)"
   ]
  },
  {
   "cell_type": "code",
   "execution_count": 20,
   "id": "caaa2a27",
   "metadata": {},
   "outputs": [],
   "source": [
    "model = glr.fit(train)"
   ]
  },
  {
   "cell_type": "code",
   "execution_count": 21,
   "id": "6fa49615",
   "metadata": {},
   "outputs": [
    {
     "data": {
      "text/plain": [
       "DenseVector([-0.0096, 0.0015, 0.0016, 0.0144, -0.0064, 0.0611, 0.0009, -0.0335, 0.0166, -0.0008, -0.0291, 0.0006, -0.0383])"
      ]
     },
     "execution_count": 21,
     "metadata": {},
     "output_type": "execute_result"
    }
   ],
   "source": [
    "model.coefficients"
   ]
  },
  {
   "cell_type": "code",
   "execution_count": 23,
   "id": "d954cd70",
   "metadata": {},
   "outputs": [
    {
     "data": {
      "text/plain": [
       "3.737063586212881"
      ]
     },
     "execution_count": 23,
     "metadata": {},
     "output_type": "execute_result"
    }
   ],
   "source": [
    "model.intercept"
   ]
  },
  {
   "cell_type": "code",
   "execution_count": 24,
   "id": "9d860ceb",
   "metadata": {},
   "outputs": [
    {
     "data": {
      "text/plain": [
       "Coefficients:\n",
       "    Feature Estimate Std Error  T Value P Value\n",
       "(Intercept)   3.7371    0.1726  21.6455  0.0000\n",
       "       CRIM  -0.0096    0.0022  -4.2803  0.0000\n",
       "         ZN   0.0015    0.0006   2.4150  0.0157\n",
       "      INDUS   0.0016    0.0032   0.4842  0.6283\n",
       "       CHAS   0.0144    0.0176   0.8158  0.4146\n",
       "        NOX  -0.0064    0.0193  -0.3304  0.7411\n",
       "         RM   0.0611    0.0139   4.3992  0.0000\n",
       "        AGE   0.0009    0.0006   1.3749  0.1692\n",
       "        DIS  -0.0335    0.0083  -4.0575  0.0000\n",
       "        RAD   0.0166    0.0035   4.7627  0.0000\n",
       "        TAX  -0.0008    0.0002  -4.0516  0.0001\n",
       "    PTRATIO  -0.0291    0.0058  -5.0215  0.0000\n",
       "          B   0.0006    0.0002   3.4367  0.0006\n",
       "      LSTAT  -0.0383    0.0026 -14.6699  0.0000\n",
       "\n",
       "(Dispersion parameter for poisson family taken to be 1.0000)\n",
       "   Null deviance: 1359.9642 on 382 degrees of freedom\n",
       "Residual deviance: 294.8593 on 382 degrees of freedom\n",
       "AIC: 2259.6470"
      ]
     },
     "execution_count": 24,
     "metadata": {},
     "output_type": "execute_result"
    }
   ],
   "source": [
    "model.summary"
   ]
  },
  {
   "cell_type": "code",
   "execution_count": 25,
   "id": "b02a6fc0",
   "metadata": {},
   "outputs": [],
   "source": [
    "tdata = model.transform(test)"
   ]
  },
  {
   "cell_type": "code",
   "execution_count": 26,
   "id": "a4bb5079",
   "metadata": {},
   "outputs": [
    {
     "name": "stdout",
     "output_type": "stream",
     "text": [
      "+-------+----+-----+----+-----+-----+----+------+---+-----+-------+------+-----+------+--------------------+------------------+\n",
      "|   CRIM|  ZN|INDUS|CHAS|  NOX|   RM| AGE|   DIS|RAD|  TAX|PTRATIO|     B|LSTAT|target|            features|        prediction|\n",
      "+-------+----+-----+----+-----+-----+----+------+---+-----+-------+------+-----+------+--------------------+------------------+\n",
      "|0.01311|90.0| 1.22| 0.0|0.403|7.249|21.9|8.6966|5.0|226.0|   17.9|395.93| 4.81|  35.4|[0.01311,90.0,1.2...| 31.54775481001564|\n",
      "|0.02875|28.0|15.04| 0.0|0.464|6.211|28.9|3.6659|4.0|270.0|   18.2|396.33| 6.21|  25.0|[0.02875,28.0,15....|29.245374394099624|\n",
      "|0.02985| 0.0| 2.18| 0.0|0.458| 6.43|58.7|6.0622|3.0|222.0|   18.7|394.12| 5.21|  28.7|[0.02985,0.0,2.18...|27.606126899002952|\n",
      "+-------+----+-----+----+-----+-----+----+------+---+-----+-------+------+-----+------+--------------------+------------------+\n",
      "only showing top 3 rows\n",
      "\n"
     ]
    }
   ],
   "source": [
    "tdata.show(3)"
   ]
  },
  {
   "cell_type": "code",
   "execution_count": 27,
   "id": "eb3d84fc",
   "metadata": {},
   "outputs": [
    {
     "name": "stdout",
     "output_type": "stream",
     "text": [
      "RMSE:  4.729007194877086\n",
      "MAE:  3.083119986586535\n",
      "R-squared:  0.7658448427216363\n"
     ]
    }
   ],
   "source": [
    "rmse = RegressionEvaluator(labelCol=\"target\", predictionCol=\"prediction\", metricName=\"rmse\")\n",
    "rmse = rmse.evaluate(tdata)\n",
    "mae = RegressionEvaluator(labelCol=\"target\", predictionCol=\"prediction\", metricName=\"mae\")\n",
    "mae = mae.evaluate(tdata)\n",
    "r2 = RegressionEvaluator(labelCol=\"target\", predictionCol=\"prediction\", metricName=\"r2\")\n",
    "r2 = r2.evaluate(tdata)\n",
    "\n",
    "print(\"RMSE: \", rmse)\n",
    "print(\"MAE: \", mae)\n",
    "print(\"R-squared: \", r2)"
   ]
  },
  {
   "cell_type": "code",
   "execution_count": 28,
   "id": "4257cb4a",
   "metadata": {},
   "outputs": [
    {
     "data": {
      "image/png": "[encoded data removed]",
      "text/plain": [
       "<Figure size 432x288 with 1 Axes>"
      ]
     },
     "metadata": {
      "needs_background": "light"
     },
     "output_type": "display_data"
    }
   ],
   "source": [
    "x_ax = range(0, tdata.count())\n",
    "y_pred=tdata.select(\"prediction\").collect()\n",
    "y_orig=tdata.select(\"target\").collect()\n",
    "\n",
    "plt.plot(x_ax, y_orig, label=\"original\")\n",
    "plt.plot(x_ax, y_pred, label=\"predicted\")\n",
    "plt.title(\"Boston test and predicted data\")\n",
    "plt.xlabel('X-axis')\n",
    "plt.ylabel('Y-axis')\n",
    "plt.legend(loc='best',fancybox=True, shadow=True)\n",
    "plt.grid(True)\n",
    "plt.show()  "
   ]
  },
  {
   "cell_type": "code",
   "execution_count": null,
   "id": "a42cc1db",
   "metadata": {},
   "outputs": [],
   "source": []
  }
 ],
 "metadata": {
  "kernelspec": {
   "display_name": "Python 3 (ipykernel)",
   "language": "python",
   "name": "python3"
  },
  "language_info": {
   "codemirror_mode": {
    "name": "ipython",
    "version": 3
   },
   "file_extension": ".py",
   "mimetype": "text/x-python",
   "name": "python",
   "nbconvert_exporter": "python",
   "pygments_lexer": "ipython3",
   "version": "3.9.12"
  }
 },
 "nbformat": 4,
 "nbformat_minor": 5
}
